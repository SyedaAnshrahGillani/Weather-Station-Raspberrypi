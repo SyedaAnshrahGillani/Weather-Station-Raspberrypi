{
 "cells": [
  {
   "cell_type": "markdown",
   "metadata": {},
   "source": [
    "## Weather Station Sensors - Actuator\n",
    "Using Raspberry Pi By Syeda Anshrah & Mirza Samad"
   ]
  },
  {
   "cell_type": "markdown",
   "metadata": {},
   "source": [
    "<img src =\"./Weather_Station_Complete_Hw.png\">"
   ]
  },
  {
   "cell_type": "markdown",
   "metadata": {},
   "source": [
    "### 1. Initialization"
   ]
  },
  {
   "cell_type": "markdown",
   "metadata": {},
   "source": [
    "Import important libraries"
   ]
  },
  {
   "cell_type": "code",
   "execution_count": 1,
   "metadata": {},
   "outputs": [],
   "source": [
    "# time library \n",
    "import datetime\n",
    "\n",
    "# widget library\n",
    "from ipywidgets import interactive\n",
    "import ipywidgets as widgets\n",
    "from IPython.display import display\n",
    "\n",
    "# DS18B20 1-Wire library (by default GPIO 4 is used with sensor (Temperature)\n",
    "from w1thermsensor import W1ThermSensor \n",
    "ds18b20Sensor = W1ThermSensor() \n",
    "\n",
    "# Adafruit DHT library (Temperature/Humidity)\n",
    "import Adafruit_DHT\n",
    "DHT22Sensor = Adafruit_DHT.DHT22\n",
    "\n",
    "# BMP library (Pressure / Temperature)\n",
    "import Adafruit_BMP.BMP085 as BMP085 \n",
    "bmp180Sensor = BMP085.BMP085()\n",
    "\n",
    "# Rapberry Pi GPIOs\n",
    "import RPi.GPIO as GPIO\n",
    "GPIO.setmode(GPIO.BCM)\n",
    "GPIO.setwarnings(False)"
   ]
  },
  {
   "cell_type": "markdown",
   "metadata": {},
   "source": [
    "Define GPIOs"
   ]
  },
  {
   "cell_type": "code",
   "execution_count": 2,
   "metadata": {},
   "outputs": [],
   "source": [
    "#define sensors GPIOs\n",
    "button = 20\n",
    "DHTpin = 16\n",
    "\n",
    "#define actuators GPIOs\n",
    "global ledRed, ledYlw, ledGrn\n",
    "ledRed = 13\n",
    "ledYlw = 19\n",
    "ledGrn = 26"
   ]
  },
  {
   "cell_type": "markdown",
   "metadata": {},
   "source": [
    "Initialize GPIOs"
   ]
  },
  {
   "cell_type": "code",
   "execution_count": 3,
   "metadata": {},
   "outputs": [],
   "source": [
    "# Define button pin as an input\n",
    "GPIO.setup(button, GPIO.IN)   \n",
    "\n",
    "# Define led pins as output\n",
    "GPIO.setup(ledRed, GPIO.OUT)   \n",
    "GPIO.setup(ledYlw, GPIO.OUT) \n",
    "GPIO.setup(ledGrn, GPIO.OUT) \n",
    "\n",
    "# Turn leds OFF \n",
    "GPIO.output(ledRed, GPIO.LOW)\n",
    "GPIO.output(ledYlw, GPIO.LOW)\n",
    "GPIO.output(ledGrn, GPIO.LOW)"
   ]
  },
  {
   "cell_type": "markdown",
   "metadata": {},
   "source": [
    "Create important functions"
   ]
  },
  {
   "cell_type": "code",
   "execution_count": 4,
   "metadata": {},
   "outputs": [],
   "source": [
    "# Convert data in text\n",
    "def convTxt(data):\n",
    "\tif data == 1:\n",
    "\t\tdata = 'ON'\n",
    "\telse:\n",
    "\t\tdata = 'OFF'\n",
    "\treturn data"
   ]
  },
  {
   "cell_type": "code",
   "execution_count": 5,
   "metadata": {},
   "outputs": [],
   "source": [
    "# Display on screen important data\n",
    "def printData():\n",
    "    print (\"Local Station Time:            \", timeString)\n",
    "    print (\"External Temperature (Aux.):   \", tempExt, \"oC\")\n",
    "    print (\"Station Air Temperature:       \", tempLab, \"oC\")\n",
    "    print (\"Station Air Humidity:          \", humLab, \"%\")\n",
    "    print (\"Sea Level Air Pressure:        \", presSL, \"mBar\")\n",
    "    print (\"Absolute Station Air Pressure: \", presAbs, \"mBar\")\n",
    "    print (\"Station Calculated Altitude:   \", altLab, \"m\")"
   ]
  },
  {
   "cell_type": "code",
   "execution_count": 6,
   "metadata": {},
   "outputs": [],
   "source": [
    "# Display on screen GPIO Status\n",
    "def printGpioStatus():\n",
    "    print (\"Button Status:                 \", buttonSts)\n",
    "    print (\"Red Led Status:                \", ledRedSts)\n",
    "    print (\"Yellow Led Status:             \", ledYlwSts)\n",
    "    print (\"Green Led Status:              \", ledGrnSts)"
   ]
  },
  {
   "cell_type": "code",
   "execution_count": 7,
   "metadata": {},
   "outputs": [],
   "source": [
    "# Read data from BMP180\n",
    "def bmp180GetData(altitude):\n",
    "\t\n",
    "\ttemp = bmp180Sensor.read_temperature()\n",
    "\tpres = bmp180Sensor.read_pressure()\n",
    "\talt =  bmp180Sensor.read_altitude()\n",
    "\tpresSeaLevel = pres / pow(1.0 - altitude/44330.0, 5.255) \n",
    "\t\n",
    "\ttemp = round (temp, 1)\n",
    "\tpres = round (pres/100, 2) # absolute pressure in hPa (or mbar)\n",
    "\talt = round (alt)\n",
    "\tpresSeaLevel = round (presSeaLevel/100, 2) # absolute pressure in hPa (or mbar)\n",
    "\n",
    "\treturn temp, pres, alt, presSeaLevel"
   ]
  },
  {
   "cell_type": "code",
   "execution_count": 8,
   "metadata": {},
   "outputs": [],
   "source": [
    "# Get data (from local sensors)\n",
    "def getSensorData(altReal=0):\n",
    "\tglobal timeString\n",
    "\tglobal humLab\n",
    "\tglobal tempExt\n",
    "\tglobal tempLab\n",
    "\tglobal presSL\n",
    "\tglobal altLab\n",
    "\tglobal presAbs\n",
    "\tglobal buttonSts\n",
    "\t\n",
    "\t# Get time of reading\n",
    "\tnow = datetime.datetime.now()\n",
    "\ttimeString = now.strftime(\"%Y-%m-%d %H:%M\")\n",
    "\t\n",
    "\t# Read External Temperature (1 meter distance)\n",
    "\ttempExt = round(ds18b20Sensor.get_temperature(), 1)\n",
    "\t\n",
    "\ttempLab, presAbs, altLab, presSL = bmp180GetData(altReal) \n",
    "\t\n",
    "\thumDHT, tempDHT = Adafruit_DHT.read_retry(DHT22Sensor, DHTpin)\n",
    "\tif humDHT is not None and tempDHT is not None:\n",
    "\t\thumLab = round (humDHT)"
   ]
  },
  {
   "cell_type": "code",
   "execution_count": 9,
   "metadata": {},
   "outputs": [],
   "source": [
    "# Get GPIO status data \n",
    "def getGpioStatus():\n",
    "    global timeString\n",
    "    global buttonSts\n",
    "    global ledRedSts\n",
    "    global ledYlwSts\n",
    "    global ledGrnSts\n",
    "\n",
    "    # Get time of reading\n",
    "    now = datetime.datetime.now()\n",
    "    timeString = now.strftime(\"%Y-%m-%d %H:%M\")\n",
    "    \n",
    "    # Read GPIO Status\n",
    "    buttonSts = convTxt(GPIO.input(button))\n",
    "    ledRedSts = convTxt(GPIO.input(ledRed))\n",
    "    ledYlwSts = convTxt(GPIO.input(ledYlw))\n",
    "    ledGrnSts = convTxt(GPIO.input(ledGrn))  "
   ]
  },
  {
   "cell_type": "code",
   "execution_count": 10,
   "metadata": {},
   "outputs": [],
   "source": [
    "# Acting on GPIOs and printing Status\n",
    "def controlLeds(r, y, g):\n",
    "    if (r):\n",
    "        GPIO.output(ledRed, GPIO.HIGH)\n",
    "    else:\n",
    "        GPIO.output(ledRed, GPIO.LOW)        \n",
    "    if (y):\n",
    "        GPIO.output(ledYlw, GPIO.HIGH)\n",
    "    else:\n",
    "        GPIO.output(ledYlw, GPIO.LOW)\n",
    "    if (g):\n",
    "        GPIO.output(ledGrn, GPIO.HIGH)\n",
    "    else:\n",
    "        GPIO.output(ledGrn, GPIO.LOW)\n",
    "    \n",
    "    getGpioStatus()\n",
    "    printGpioStatus()"
   ]
  },
  {
   "cell_type": "markdown",
   "metadata": {},
   "source": [
    "### 2. Getting Sensor Data"
   ]
  },
  {
   "cell_type": "code",
   "execution_count": 11,
   "metadata": {},
   "outputs": [
    {
     "name": "stdout",
     "output_type": "stream",
     "text": [
      "Local Station Time:             2018-05-03 18:05\n",
      "External Temperature (Aux.):    18.9 oC\n",
      "Station Air Temperature:        18.8 oC\n",
      "Station Air Humidity:           37 %\n",
      "Sea Level Air Pressure:         1018.05 mBar\n",
      "Absolute Station Air Pressure:  908.51 mBar\n",
      "Station Calculated Altitude:    911 m\n"
     ]
    }
   ],
   "source": [
    "alt = 950 # real altitude of weather Station\n",
    "getSensorData(alt)\n",
    "printData()"
   ]
  },
  {
   "cell_type": "markdown",
   "metadata": {},
   "source": [
    "---"
   ]
  },
  {
   "cell_type": "markdown",
   "metadata": {},
   "source": [
    "### 3. Acting/Readings GPIOs"
   ]
  },
  {
   "cell_type": "markdown",
   "metadata": {},
   "source": [
    "### Controlling LEDs"
   ]
  },
  {
   "cell_type": "code",
   "execution_count": 12,
   "metadata": {},
   "outputs": [
    {
     "data": {
      "application/vnd.jupyter.widget-view+json": {
       "model_id": "ad928fa0228445f2b96870686e4bd7be",
       "version_major": 2,
       "version_minor": 0
      },
      "text/plain": [
       "interactive(children=(IntSlider(value=0, description='r', max=1), IntSlider(value=0, description='y', max=1), …"
      ]
     },
     "metadata": {},
     "output_type": "display_data"
    }
   ],
   "source": [
    "f = interactive(controlLeds, r=(0,1,1), y=(0,1,1), g=(0,1,1))\n",
    "display(f)"
   ]
  }
 ],
 "metadata": {
  "kernelspec": {
   "display_name": "Python 3",
   "language": "python",
   "name": "python3"
  },
  "language_info": {
   "codemirror_mode": {
    "name": "ipython",
    "version": 3
   },
   "file_extension": ".py",
   "mimetype": "text/x-python",
   "name": "python",
   "nbconvert_exporter": "python",
   "pygments_lexer": "ipython3",
   "version": "3.8.3"
  }
 },
 "nbformat": 4,
 "nbformat_minor": 2
}
